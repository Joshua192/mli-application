{
 "cells": [
  {
   "cell_type": "code",
   "execution_count": 2,
   "metadata": {},
   "outputs": [],
   "source": [
    "import torch\n",
    "from torchvision import datasets, transforms\n",
    "import matplotlib.pyplot as plt\n",
    "from torch.utils.data import DataLoader\n",
    "import numpy\n",
    "# torch.__version__ #2.6.0+cu124"
   ]
  },
  {
   "cell_type": "code",
   "execution_count": 3,
   "metadata": {},
   "outputs": [
    {
     "name": "stdout",
     "output_type": "stream",
     "text": [
      "2.6.0+cu124\n"
     ]
    }
   ],
   "source": [
    "import torch\n",
    "print(torch.__version__) #2.6.0+cu124"
   ]
  },
  {
   "cell_type": "code",
   "execution_count": 4,
   "metadata": {},
   "outputs": [
    {
     "name": "stdout",
     "output_type": "stream",
     "text": [
      "True\n",
      "device  cuda\n",
      "['sm_50', 'sm_60', 'sm_61', 'sm_70', 'sm_75', 'sm_80', 'sm_86', 'sm_90']\n",
      "['c:\\\\Users\\\\Joshua\\\\anaconda3\\\\envs\\\\MLI\\\\Lib\\\\site-packages\\\\torch']\n"
     ]
    }
   ],
   "source": [
    "device = torch.device('cuda' if torch.cuda.is_available else 'cpu')\n",
    "print(torch.cuda.is_available())\n",
    "print(\"device \", device)\n",
    "print(torch.cuda.get_arch_list())\n",
    "print(torch.__path__)\n",
    "# TODO: Activate GPU\n",
    "#If GPU is found (correct version of torch is found), then the following will be printed:\n",
    "\n",
    "# True\n",
    "# device  cuda\n",
    "# ['sm_50', 'sm_60', 'sm_61', 'sm_70', 'sm_75', 'sm_80', 'sm_86', 'sm_90']\n",
    "# ['c:\\\\Users\\\\Joshua\\\\anaconda3\\\\envs\\\\MLI\\\\Lib\\\\site-packages\\\\torch']"
   ]
  },
  {
   "cell_type": "code",
   "execution_count": 5,
   "metadata": {},
   "outputs": [],
   "source": [
    "'''\n",
    "TODO: include in application for MLI programme.\n",
    "personal contextual information\n",
    "I have built and trained convlutional networks in the past using keras + tensorflow.\n",
    "the inital stage of the project for me is more about re-familiarising myself with fundamentals and adapting to a new framework for underlying principles.\n",
    "'''\n",
    "\n",
    "# Define a transform to convert the data to tensor and normalize it\n",
    "transform = transforms.Compose([\n",
    "    transforms.ToTensor(),\n",
    "    transforms.Normalize((0.5,), (0.5,))\n",
    "])\n",
    "\n",
    "# Load the training dataset with normalization\n",
    "train_dataset = datasets.MNIST(root='data', train=True, download=True, transform=transform)\n",
    "\n",
    "# Load the test dataset with normalization\n",
    "test_dataset = datasets.MNIST(root='data', train=False, download=True, transform=transform)\n",
    "\n",
    "\n",
    "# Define batch size\n",
    "batch_size = 64\n",
    "\n",
    "# Create data loader for the training dataset\n",
    "train_loader = DataLoader(dataset=train_dataset, batch_size=batch_size, shuffle=True)\n",
    "\n",
    "# Create data loader for the test dataset\n",
    "test_loader = DataLoader(dataset=test_dataset, batch_size=batch_size, shuffle=False)\n"
   ]
  },
  {
   "cell_type": "code",
   "execution_count": 6,
   "metadata": {},
   "outputs": [],
   "source": [
    "# Function to visualize images\n",
    "def show_images(images, labels):\n",
    "    fig, axes = plt.subplots(1, len(images), figsize=(10, 2))\n",
    "    for img, label, ax in zip(images, labels, axes):\n",
    "        ax.imshow(img.squeeze(), cmap='gray')\n",
    "        ax.set_title(f'Value: {label}')\n",
    "        ax.axis('off')\n",
    "    plt.show()\n",
    "\n"
   ]
  },
  {
   "cell_type": "code",
   "execution_count": 7,
   "metadata": {},
   "outputs": [
    {
     "data": {
      "image/png": "[encoded data removed]",
      "text/plain": [
       "<Figure size 1000x200 with 5 Axes>"
      ]
     },
     "metadata": {},
     "output_type": "display_data"
    }
   ],
   "source": [
    "# Get a batch of images from the training data loader\n",
    "data_iter = iter(train_loader)\n",
    "pictures, true_values = next(data_iter)\n",
    "\n",
    "# Display the first 5 images\n",
    "show_images(pictures[:5], true_values[:5])"
   ]
  },
  {
   "cell_type": "code",
   "execution_count": 8,
   "metadata": {},
   "outputs": [
    {
     "data": {
      "text/plain": [
       "'\\nrefresher on cnn fundamentals [https://www.youtube.com/watch?v=pDdP0TFzsoQ]\\nbuilding a cnn in pytorch.\\nconvolutional layers, pooling layers, rectified linear unit (ReLU) layers, and fully connected layer\\n'"
      ]
     },
     "execution_count": 8,
     "metadata": {},
     "output_type": "execute_result"
    }
   ],
   "source": [
    "'''\n",
    "refresher on cnn fundamentals [https://www.youtube.com/watch?v=pDdP0TFzsoQ]\n",
    "building a cnn in pytorch.\n",
    "convolutional layers, pooling layers, rectified linear unit (ReLU) layers, and fully connected layer\n",
    "'''"
   ]
  },
  {
   "cell_type": "code",
   "execution_count": 9,
   "metadata": {},
   "outputs": [],
   "source": [
    "#defining variables that will be used to build model and specifying processor for training\n",
    "classifications = ('0','1','2','3','4','5','6','7','8','9')\n",
    "batch_size = 64 #redeclared batch size so I can alter it for lighter load on training.\n",
    "# training_epochs = 100 #declared in 'training' section of file. here for reference\n",
    "learn_rate = 0.001\n",
    "\n",
    "#I have cuda-12.4 enabled GPU\n",
    "device = torch.device('cuda' if torch.cuda.is_available else 'cpu')"
   ]
  },
  {
   "cell_type": "code",
   "execution_count": 10,
   "metadata": {},
   "outputs": [
    {
     "name": "stdout",
     "output_type": "stream",
     "text": [
      "12.4\n",
      "True\n"
     ]
    }
   ],
   "source": [
    "print(torch.version.cuda)  # Should return a version number, not None\n",
    "print(torch.backends.cudnn.enabled)"
   ]
  },
  {
   "cell_type": "code",
   "execution_count": 11,
   "metadata": {},
   "outputs": [],
   "source": [
    "import torch.nn as nn\n",
    "import torch.optim as optim\n",
    "import torch.nn.functional as F\n",
    "#building conv model \n",
    "#MNIST dataset contains single-channel image -> Input 28*28\n",
    "# ( (Conv -> ReLU)*2 -> Pooling )*3 -> Fully Connected \n",
    "class ConvNet(nn.ModuleList):\n",
    "    # def __init__(self):\n",
    "        # super().__init__()\n",
    "        # self.conv1 = nn.Conv2d(3, 6, 5)\n",
    "        # self.pool = nn.MaxPool2d(2, 2)\n",
    "        # self.conv2 = nn.Conv2d(6, 16, 5)\n",
    "        # self.fc1 = nn.Linear(16 * 5 * 5, 120)\n",
    "        # self.fc2 = nn.Linear(120, 84)\n",
    "        # self.fc3 = nn.Linear(84, 10)\n",
    "    \n",
    "    # def forward(self, inputs):\n",
    "    #     inputs = self.pool(F.relu(self.conv1(inputs)))\n",
    "    #     inputs = self.pool(F.relu(self.conv2(inputs)))\n",
    "    #     inputs = torch.flatten(inputs, 1) # flatten all dimensions except batch\n",
    "    #     inputs = F.relu(self.fc1(inputs))\n",
    "    #     inputs = F.relu(self.fc2(inputs))\n",
    "    #     inputs = self.fc3(inputs)\n",
    "    #     return inputs\n",
    "\n",
    "    def __init__(self):\n",
    "        super().__init__()\n",
    "        self.fc1 = nn.Linear(28 * 28, 128)\n",
    "        self.relu = nn.ReLU()\n",
    "        self.fc2 = nn.Linear(128, 10)\n",
    "        self.softmax = nn.LogSoftmax(dim=1)\n",
    "    \n",
    "    def forward(self, inputs):\n",
    "        inputs = inputs.view(-1, 28 * 28)  # Flatten the input\n",
    "        inputs = self.fc1(inputs)\n",
    "        inputs = self.relu(inputs)\n",
    "        inputs = self.fc2(inputs)\n",
    "        return self.softmax(inputs)\n",
    "\n",
    "\n",
    "model = ConvNet().to(device) #instance of class passed to GPU/CPU\n",
    "# model = ConvNet()\n",
    "criterion = nn.CrossEntropyLoss() #CEL for classification model\n",
    "optimiser = optim.SGD(params=model.parameters(), lr=learn_rate)    "
   ]
  },
  {
   "cell_type": "code",
   "execution_count": 12,
   "metadata": {},
   "outputs": [],
   "source": [
    "training_epochs = 100\n",
    "\n",
    "for epoch in range(training_epochs):\n",
    "    #iterate over train set and pass into model \n",
    "    for i, (image, label) in enumerate(train_loader):\n",
    "        # Get a batch of images from the training data loader\n",
    "        images = image.to(device)\n",
    "        labels = label.to(device)\n",
    "\n",
    "        outputs = model(images).to(device)\n",
    "        loss = criterion(outputs, labels)\n",
    "        \n",
    "        optimiser.zero_grad()\n",
    "        loss.backward()\n",
    "        optimiser.step()\n",
    "        "
   ]
  },
  {
   "cell_type": "code",
   "execution_count": 13,
   "metadata": {},
   "outputs": [],
   "source": [
    "torch.save(model.state_dict(), \"./saved_models/mid_train_model\")"
   ]
  },
  {
   "cell_type": "code",
   "execution_count": 15,
   "metadata": {},
   "outputs": [
    {
     "name": "stdout",
     "output_type": "stream",
     "text": [
      "Accuracy on test set: 94.300%\n"
     ]
    }
   ],
   "source": [
    "correct = 0\n",
    "total = 0\n",
    "with torch.no_grad():\n",
    "    for i, (images, labels) in enumerate(test_loader):\n",
    "        images, labels = images.to(device), labels.to(device) \n",
    "        outputs = model(images)\n",
    "        _, predicted = torch.max(outputs, 1)\n",
    "        total += labels.size(0)\n",
    "        correct += (predicted == labels).sum().item()\n",
    "    # show_predictions(images.to(\"cpu\"),outputs.to(\"cpu\"),labels.to(\"cpu\"))\n",
    "\n",
    "accuracy = 100 * correct / total\n",
    "print(f'Accuracy on test set: {accuracy:.3f}%')\n"
   ]
  },
  {
   "cell_type": "code",
   "execution_count": null,
   "metadata": {},
   "outputs": [],
   "source": [
    "#TODO: Plot some example test data with predictions and ground truths."
   ]
  }
 ],
 "metadata": {
  "kernelspec": {
   "display_name": "MLI",
   "language": "python",
   "name": "python3"
  },
  "language_info": {
   "codemirror_mode": {
    "name": "ipython",
    "version": 3
   },
   "file_extension": ".py",
   "mimetype": "text/x-python",
   "name": "python",
   "nbconvert_exporter": "python",
   "pygments_lexer": "ipython3",
   "version": "3.11.11"
  }
 },
 "nbformat": 4,
 "nbformat_minor": 4
}
