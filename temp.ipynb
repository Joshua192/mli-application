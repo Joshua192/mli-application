{
 "cells": [
  {
   "cell_type": "code",
   "execution_count": 9,
   "metadata": {},
   "outputs": [
    {
     "name": "stdout",
     "output_type": "stream",
     "text": [
      "Database connected successfully.\n",
      "Table created successfully\n"
     ]
    }
   ],
   "source": [
    "import psycopg2\n",
    "\n",
    "try:\n",
    "    conn = psycopg2.connect(database = \"mnistdb\", \n",
    "                        user = \"postgres\", \n",
    "                        host= 'localhost',\n",
    "                        password = \"post_admin\",\n",
    "                        port = 5432)\n",
    "    print(\"Database connected successfully.\")\n",
    "except:\n",
    "    print(\"Database connection failed.\")\n",
    "\n",
    "with conn:\n",
    "    with conn.cursor() as cur:\n",
    "        \n",
    "        try:\n",
    "            cur.execute(\n",
    "            \"\"\"\n",
    "            CREATE TABLE prediction_logs(\n",
    "            prediction INTEGER NOT NULL, \n",
    "            confidence NUMERIC(3,2) NOT NULL, \n",
    "            groundTruth INTEGER NOT NULL,\n",
    "            submissionStamp VARCHAR(20) NOT NULL \n",
    "            );\n",
    "            \"\"\")\n",
    "\n",
    "            print(\"Table created successfully\")\n",
    "        except Exception as e:\n",
    "            print(\"Table creation failed.\")\n",
    "            print(e)\n",
    "    \n",
    "conn.close()"
   ]
  },
  {
   "cell_type": "code",
   "execution_count": null,
   "metadata": {},
   "outputs": [],
   "source": []
  }
 ],
 "metadata": {
  "kernelspec": {
   "display_name": "MLI",
   "language": "python",
   "name": "python3"
  },
  "language_info": {
   "codemirror_mode": {
    "name": "ipython",
    "version": 3
   },
   "file_extension": ".py",
   "mimetype": "text/x-python",
   "name": "python",
   "nbconvert_exporter": "python",
   "pygments_lexer": "ipython3",
   "version": "3.11.11"
  }
 },
 "nbformat": 4,
 "nbformat_minor": 2
}
